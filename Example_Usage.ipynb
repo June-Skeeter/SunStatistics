{
 "cells": [
  {
   "cell_type": "code",
   "execution_count": 1,
   "metadata": {},
   "outputs": [
    {
     "name": "stdout",
     "output_type": "stream",
     "text": [
      "[48.55199685]\n",
      "[41.46625005]\n",
      "[190.23296533]\n",
      "[0.2979504]\n",
      "[0.55524199]\n",
      "[0.81253359]\n",
      "\n",
      "[48.55151944]\n",
      "[41.46672715]\n",
      "[190.22755923]\n",
      "[0.29795038]\n",
      "[0.55524199]\n",
      "[0.8125336]\n"
     ]
    }
   ],
   "source": [
    "import SunStats as SS\n",
    "import datetime as dt\n",
    "import pandas as pd\n",
    "import numpy as np\n",
    "\n",
    "\n",
    "LAT = 49.2662488953226\n",
    "LON = -123.25623071621565\n",
    "now = pd.Timestamp(dt.datetime.now())\n",
    "JD = pd.Timestamp.to_julian_date(now.floor('D'))\n",
    "# TIME = dt.datetime.now()\n",
    "TIME = now.hour/24+now.minute/(60*24)+now.second/(60*60*24)\n",
    "TZ = -7\n",
    "A = np.ones(1)\n",
    "\n",
    "for p in SS.calc_Sun_Position(LAT*A,LON*A,JD*A,TIME*A,TZ*A):\n",
    "    print(p)\n",
    "\n",
    "JD = pd.Timestamp.to_julian_date(now)\n",
    "\n",
    "print()\n",
    "pos = SS.sunPosition(JD*A,-7*A)\n",
    "pos.calc_for_Coords(LAT*A,LON*A)\n",
    "print(pos.Zenith)\n",
    "print(pos.Solar_elevation)\n",
    "print(pos.Azimuth)\n",
    "print(pos.Sunrise_LST)\n",
    "print(pos.Noon_LST)\n",
    "print(pos.Sunset_LST)"
   ]
  }
 ],
 "metadata": {
  "kernelspec": {
   "display_name": ".venv",
   "language": "python",
   "name": "python3"
  },
  "language_info": {
   "codemirror_mode": {
    "name": "ipython",
    "version": 3
   },
   "file_extension": ".py",
   "mimetype": "text/x-python",
   "name": "python",
   "nbconvert_exporter": "python",
   "pygments_lexer": "ipython3",
   "version": "3.10.4"
  },
  "orig_nbformat": 4
 },
 "nbformat": 4,
 "nbformat_minor": 2
}
